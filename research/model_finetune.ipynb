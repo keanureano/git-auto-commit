{
 "cells": [
  {
   "cell_type": "markdown",
   "metadata": {},
   "source": [
    "Upload training file"
   ]
  },
  {
   "cell_type": "code",
   "execution_count": 2,
   "metadata": {},
   "outputs": [
    {
     "data": {
      "text/plain": [
       "FileObject(id='file-853GWL6i3rJEPjQx0SPUBRvD', bytes=460276, created_at=1700192158, filename='train.jsonl', object='file', purpose='fine-tune', status='processed', status_details=None)"
      ]
     },
     "execution_count": 2,
     "metadata": {},
     "output_type": "execute_result"
    }
   ],
   "source": [
    "from openai import OpenAI\n",
    "\n",
    "client = OpenAI()\n",
    "\n",
    "client.files.create(file=open(\"training_data/train.jsonl\", \"rb\"), purpose=\"fine-tune\")"
   ]
  },
  {
   "cell_type": "markdown",
   "metadata": {},
   "source": [
    "Create and fine-tune GPT model"
   ]
  },
  {
   "cell_type": "code",
   "execution_count": 5,
   "metadata": {},
   "outputs": [
    {
     "data": {
      "text/plain": [
       "FineTuningJob(id='ftjob-s0qXi2HkmfGO8s5fouddudAA', created_at=1700192328, error=None, fine_tuned_model=None, finished_at=None, hyperparameters=Hyperparameters(n_epochs='auto', batch_size='auto', learning_rate_multiplier='auto'), model='gpt-3.5-turbo-0613', object='fine_tuning.job', organization_id='org-NDz9poqXw9C75AxNzCwKdFDg', result_files=[], status='validating_files', trained_tokens=None, training_file='file-853GWL6i3rJEPjQx0SPUBRvD', validation_file=None)"
      ]
     },
     "execution_count": 5,
     "metadata": {},
     "output_type": "execute_result"
    }
   ],
   "source": [
    "from openai import OpenAI\n",
    "\n",
    "client = OpenAI()\n",
    "\n",
    "client.fine_tuning.jobs.create(\n",
    "    training_file=\"file-853GWL6i3rJEPjQx0SPUBRvD\", model=\"gpt-3.5-turbo\", suffix=\"git-auto-commit\"\n",
    ")"
   ]
  },
  {
   "cell_type": "markdown",
   "metadata": {},
   "source": [
    "Verify that the fine-tuned model works"
   ]
  },
  {
   "cell_type": "code",
   "execution_count": 17,
   "metadata": {},
   "outputs": [
    {
     "name": "stdout",
     "output_type": "stream",
     "text": [
      "ChatCompletionMessage(content='fix missing legacyhiddencomponent in react-devtools-shared', role='assistant', function_call=None, tool_calls=None)\n"
     ]
    }
   ],
   "source": [
    "from openai import OpenAI\n",
    "\n",
    "client = OpenAI()\n",
    "\n",
    "response = client.chat.completions.create(\n",
    "    model=\"ft:gpt-3.5-turbo-0613:personal:git-auto-commit:8LkKaBz2\",\n",
    "    messages=[\n",
    "        {\"role\": \"system\", \"content\": \"Summarize diff logs with a commit message.\"},\n",
    "        {\n",
    "            \"role\": \"user\",\n",
    "            \"content\": \"diff --git a/packages/react-devtools-shared/src/backend/agent.js b/packages/react-devtools-shared/src/backend/agent.js\\nindex e665235271ca..7470070455c0 100644\\n--- a/packages/react-devtools-shared/src/backend/agent.js\\n+++ b/packages/react-devtools-shared/src/backend/agent.js\\n@@ -676,7 +676,10 @@ export default class Agent extends EventEmitter<{|\\n \\n   onHookOperations = (operations: Array<number>) => {\\n     if (__DEBUG__) {\\n-      debug('onHookOperations', operations);\\n+      debug(\\n+        'onHookOperations',\\n+        `(${operations.length}) [${operations.join(', ')}]`,\\n+      );\\n     }\\n \\n     // TODO:\\ndiff --git a/packages/react-devtools-shared/src/backend/renderer.js b/packages/react-devtools-shared/src/backend/renderer.js\\nindex 18fa9d7efdda..3afbbf3dd443 100644\\n--- a/packages/react-devtools-shared/src/backend/renderer.js\\n+++ b/packages/react-devtools-shared/src/backend/renderer.js\\n@@ -534,6 +534,7 @@ export function attach(\\n     HostText,\\n     IncompleteClassComponent,\\n     IndeterminateComponent,\\n+    LegacyHiddenComponent,\\n     MemoComponent,\\n     OffscreenComponent,\\n     SimpleMemoComponent,\\n@@ -841,6 +842,7 @@ export function attach(\\n       case HostPortal:\\n       case HostText:\\n       case Fragment:\\n+      case LegacyHiddenComponent:\\n       case OffscreenComponent:\\n         return true;\\n       case HostRoot:\",\n",
    "        },\n",
    "        # expected output: fix devtools bug with suspense+legacyhidden component\"\n",
    "    ],\n",
    ")\n",
    "print(response.choices[0].message)"
   ]
  }
 ],
 "metadata": {
  "kernelspec": {
   "display_name": "Python 3",
   "language": "python",
   "name": "python3"
  },
  "language_info": {
   "codemirror_mode": {
    "name": "ipython",
    "version": 3
   },
   "file_extension": ".py",
   "mimetype": "text/x-python",
   "name": "python",
   "nbconvert_exporter": "python",
   "pygments_lexer": "ipython3",
   "version": "3.11.4"
  },
  "orig_nbformat": 4
 },
 "nbformat": 4,
 "nbformat_minor": 2
}
